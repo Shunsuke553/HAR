{
 "cells": [
  {
   "cell_type": "code",
   "execution_count": 1,
   "metadata": {},
   "outputs": [],
   "source": [
    "import numpy as np\n",
    "import matplotlib.pyplot as plt\n",
    "import random\n",
    "import tqdm\n",
    "\n",
    "import torch\n",
    "from torch import nn, optim\n",
    "from torch.utils.data import (Dataset, DataLoader, TensorDataset)"
   ]
  },
  {
   "cell_type": "code",
   "execution_count": 31,
   "metadata": {},
   "outputs": [],
   "source": [
    "# パラメーター\n",
    "N_CLASSES = 3  # クラス数\n",
    "N_INPUTS = 1  # 1ステップに入力されるデータ数\n",
    "N_STEPS = 200  # 学習ステップ数\n",
    "LEN_SEQ = 10  # 系列長\n",
    "N_NODES = 64  # ノード数\n",
    "N_DATA = 1000  # 各クラスの学習用データ数\n",
    "N_TEST = 1000  # テスト用データ数\n",
    "BATCH_SIZE = 20  # バッチサイズ\n",
    "\n",
    "# データの準備\n",
    "def gen_non_pulse(len_seq):\n",
    "    \"\"\"波を持たない系列データを生成する\"\"\"\n",
    "    ret = np.random.rand(len_seq)\n",
    "    ret = np.append(ret, 0)\n",
    "    return ret.reshape(-1,1)\n",
    "\n",
    "def gen_pulse(len_seq, positive=True):\n",
    "    \"\"\"波を持つ系列データを生成する\"\"\"\n",
    "    seq = np.zeros(len_seq)\n",
    "    i = random.randint(0, len_seq-3)  # 波を立てる位置\n",
    "    w = random.randint(1, 4)\n",
    "    w = w if positive else w * (-1.)\n",
    "    e = 3 if positive else -3\n",
    "    l = 1 if positive else 2  # ラベル\n",
    "    seq[i], seq[i+1], seq[i+2] = w, w+e, w\n",
    "    noise = np.random.rand(len_seq)\n",
    "    ret = seq + noise\n",
    "    ret = np.append(ret, l)  # ラベルを加える\n",
    "    return ret.reshape(-1,1)\n",
    "\n",
    "def gen_dataset(len_seq, n_data):\n",
    "    class_01_data = [gen_non_pulse(len_seq) for _ in range(n_data)]\n",
    "    class_02_data = [gen_pulse(len_seq, positive=True) for _ in range(n_data)]\n",
    "    class_03_data = [gen_pulse(len_seq, positive=False) for _ in range(n_data)]\n",
    "    dataset = np.r_[class_01_data, class_02_data, class_03_data]\n",
    "    np.random.shuffle(dataset)\n",
    "    x_ = dataset[:,:10]\n",
    "    t_ = dataset[:,10].reshape(-1)\n",
    "    return x_, t_\n",
    "\n",
    "x_train, y_train = gen_dataset(LEN_SEQ, N_DATA)  # 学習用データセット\n",
    "x_test, y_test = gen_dataset(LEN_SEQ, N_DATA)  # テスト用データセット\n",
    "\n",
    "x_train = torch.tensor(x_train, dtype=torch.float32)\n",
    "y_train = torch.tensor(y_train, dtype=torch.int64)\n",
    "x_test  = torch.tensor(x_test, dtype=torch.float32)\n",
    "y_test  = torch.tensor(y_test, dtype=torch.int64)\n",
    "\n",
    "train_data = TensorDataset(x_train, y_train)\n",
    "test_data = TensorDataset(x_test, y_test)\n",
    "\n",
    "train_loader = DataLoader(train_data, batch_size=32, shuffle=True)\n",
    "test_loader  = DataLoader(test_data, batch_size=32)"
   ]
  },
  {
   "cell_type": "code",
   "execution_count": 33,
   "metadata": {},
   "outputs": [],
   "source": [
    "class LSTM(nn.Module):\n",
    "    def __init__(self, input_size, hidden_size, output_size, num_layers):\n",
    "        super().__init__()\n",
    "        self.lstm = nn.LSTM(input_size=input_size,\n",
    "                            hidden_size=hidden_size,\n",
    "                            num_layers=num_layers, \n",
    "                            batch_first=True)\n",
    "        self.linear = nn.Linear(hidden_size, output_size)\n",
    "\n",
    "    def forward(self, x, h0=None, l=None):\n",
    "        x, h = self.lstm(x, h0)\n",
    "        # 最後のステップのみ取り出す\n",
    "        # xは(batch_size, step_size, hidden_dim)\n",
    "        # -> (batch_size, 1)\n",
    "        if l is not None:\n",
    "            # 入力のもともとの長さがある場合はそれを使用する\n",
    "            x = x[list(range(len(x))), l-1, :]\n",
    "        else:\n",
    "            # なければ単純に最後を使用する\n",
    "            x = x[:, -1, :]\n",
    "        # 取り出した最後のステップを線形層に入れる\n",
    "        x = self.linear(x)\n",
    "        # 余分な次元を削除する\n",
    "        # (batch_size, 1) -> (batch_size, )\n",
    "        x = x.squeeze()\n",
    "        return x"
   ]
  },
  {
   "cell_type": "code",
   "execution_count": 34,
   "metadata": {},
   "outputs": [],
   "source": [
    "def eval_net(net, data_loader, device='cpu'):\n",
    "    net.eval()\n",
    "    yans = []\n",
    "    ypreds = []\n",
    "    for x,y in data_loader:\n",
    "        x = x.to(device)\n",
    "        y = y.to(device)\n",
    "        with torch.no_grad():\n",
    "            # torch.maxは集計軸を指定すると最大値の他にその値も返す\n",
    "            # 確率が最大であるラベルをy_predとする．\n",
    "            _, y_pred = torch.max(net(x), 1)\n",
    "            yans.append(y)\n",
    "            ypreds.append(y_pred)\n",
    "        yans = torch.cat(yans)\n",
    "        ypreds = torch.cat(ypreds)\n",
    "        acc = (yans == ypreds).float().sum() / len(yans)\n",
    "        return acc.item()"
   ]
  },
  {
   "cell_type": "code",
   "execution_count": 35,
   "metadata": {},
   "outputs": [
    {
     "name": "stderr",
     "output_type": "stream",
     "text": [
      "100%|██████████| 94/94 [00:00<00:00, 472.45it/s]\n",
      " 46%|████▌     | 43/94 [00:00<00:00, 429.73it/s]"
     ]
    },
    {
     "name": "stdout",
     "output_type": "stream",
     "text": [
      "0.7717799227288429 0.96875 0.90625\n"
     ]
    },
    {
     "name": "stderr",
     "output_type": "stream",
     "text": [
      "100%|██████████| 94/94 [00:00<00:00, 403.71it/s]\n",
      " 41%|████▏     | 39/94 [00:00<00:00, 389.11it/s]"
     ]
    },
    {
     "name": "stdout",
     "output_type": "stream",
     "text": [
      "0.44219891594207666 0.96875 1.0\n"
     ]
    },
    {
     "name": "stderr",
     "output_type": "stream",
     "text": [
      "100%|██████████| 94/94 [00:00<00:00, 377.26it/s]\n",
      " 43%|████▎     | 40/94 [00:00<00:00, 389.46it/s]"
     ]
    },
    {
     "name": "stdout",
     "output_type": "stream",
     "text": [
      "0.3045444365934277 1.0 1.0\n"
     ]
    },
    {
     "name": "stderr",
     "output_type": "stream",
     "text": [
      "100%|██████████| 94/94 [00:00<00:00, 377.05it/s]\n",
      " 38%|███▊      | 36/94 [00:00<00:00, 353.54it/s]"
     ]
    },
    {
     "name": "stdout",
     "output_type": "stream",
     "text": [
      "0.23184418167666274 1.0 1.0\n"
     ]
    },
    {
     "name": "stderr",
     "output_type": "stream",
     "text": [
      "100%|██████████| 94/94 [00:00<00:00, 355.19it/s]\n",
      " 40%|████      | 38/94 [00:00<00:00, 374.92it/s]"
     ]
    },
    {
     "name": "stdout",
     "output_type": "stream",
     "text": [
      "0.18713938893671048 1.0 1.0\n"
     ]
    },
    {
     "name": "stderr",
     "output_type": "stream",
     "text": [
      "100%|██████████| 94/94 [00:00<00:00, 375.01it/s]\n",
      " 37%|███▋      | 35/94 [00:00<00:00, 341.48it/s]"
     ]
    },
    {
     "name": "stdout",
     "output_type": "stream",
     "text": [
      "0.1568676339497902 1.0 1.0\n"
     ]
    },
    {
     "name": "stderr",
     "output_type": "stream",
     "text": [
      "100%|██████████| 94/94 [00:00<00:00, 345.39it/s]\n",
      " 36%|███▌      | 34/94 [00:00<00:00, 335.67it/s]"
     ]
    },
    {
     "name": "stdout",
     "output_type": "stream",
     "text": [
      "0.1350158400784776 1.0 1.0\n"
     ]
    },
    {
     "name": "stderr",
     "output_type": "stream",
     "text": [
      "100%|██████████| 94/94 [00:00<00:00, 352.66it/s]\n",
      " 37%|███▋      | 35/94 [00:00<00:00, 343.48it/s]"
     ]
    },
    {
     "name": "stdout",
     "output_type": "stream",
     "text": [
      "0.1185141803515317 1.0 1.0\n"
     ]
    },
    {
     "name": "stderr",
     "output_type": "stream",
     "text": [
      "100%|██████████| 94/94 [00:00<00:00, 340.70it/s]\n",
      " 40%|████      | 38/94 [00:00<00:00, 371.64it/s]"
     ]
    },
    {
     "name": "stdout",
     "output_type": "stream",
     "text": [
      "0.10560898951887225 1.0 1.0\n"
     ]
    },
    {
     "name": "stderr",
     "output_type": "stream",
     "text": [
      "100%|██████████| 94/94 [00:00<00:00, 352.87it/s]"
     ]
    },
    {
     "name": "stdout",
     "output_type": "stream",
     "text": [
      "0.09523967236052565 1.0 1.0\n"
     ]
    },
    {
     "name": "stderr",
     "output_type": "stream",
     "text": [
      "\n"
     ]
    },
    {
     "data": {
      "text/plain": [
       "<matplotlib.legend.Legend at 0x7f7c88416470>"
      ]
     },
     "execution_count": 35,
     "metadata": {},
     "output_type": "execute_result"
    },
    {
     "data": {
      "image/png": "[encoded data removed]",
      "text/plain": [
       "<Figure size 432x288 with 1 Axes>"
      ]
     },
     "metadata": {
      "needs_background": "light"
     },
     "output_type": "display_data"
    }
   ],
   "source": [
    "net = LSTM(input_size=1,hidden_size=32,output_size=3,num_layers=1)\n",
    "net.to('cuda:0')\n",
    "opt = optim.Adam(net.parameters())\n",
    "loss_fn = nn.CrossEntropyLoss()\n",
    "\n",
    "losses = []\n",
    "for epoch in range(10):\n",
    "    net.train()\n",
    "    for x,y in tqdm.tqdm(train_loader):\n",
    "        x = x.to('cuda:0')\n",
    "        y = y.to('cuda:0')\n",
    "        y_pred = net(x)\n",
    "        loss = loss_fn(y_pred, y)\n",
    "        net.zero_grad()\n",
    "        loss.backward()\n",
    "        opt.step()\n",
    "        losses.append(loss.item())\n",
    "        \n",
    "    train_acc = eval_net(net, train_loader, 'cuda:0')\n",
    "    val_acc = eval_net(net, test_loader, 'cuda:0')\n",
    "    print(np.mean(losses), train_acc, val_acc)\n",
    "    \n",
    "plt.plot(losses, label='loss')\n",
    "plt.legend()"
   ]
  },
  {
   "cell_type": "code",
   "execution_count": null,
   "metadata": {},
   "outputs": [],
   "source": []
  },
  {
   "cell_type": "code",
   "execution_count": null,
   "metadata": {},
   "outputs": [],
   "source": []
  }
 ],
 "metadata": {
  "kernelspec": {
   "display_name": "Python 3",
   "language": "python",
   "name": "python3"
  },
  "language_info": {
   "codemirror_mode": {
    "name": "ipython",
    "version": 3
   },
   "file_extension": ".py",
   "mimetype": "text/x-python",
   "name": "python",
   "nbconvert_exporter": "python",
   "pygments_lexer": "ipython3",
   "version": "3.6.6"
  }
 },
 "nbformat": 4,
 "nbformat_minor": 2
}
